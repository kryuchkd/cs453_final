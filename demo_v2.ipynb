{
 "cells": [
  {
   "cell_type": "code",
   "execution_count": 4,
   "metadata": {},
   "outputs": [],
   "source": [
    "from utils import *\n",
    "\n",
    "location_id = 0 #JSON with all coordinates has multiple locations (18), pick which one to work with\n",
    "\n",
    "num_splits_for_location = 20 #in how many splits to divide the location (20 = 20x20 grid, 100 = 100x100 grid, etc.)\n",
    "\n"
   ]
  },
  {
   "cell_type": "code",
   "execution_count": 5,
   "metadata": {},
   "outputs": [],
   "source": [
    "json_path = r'data/catchments_long.json' #path to JSON file with all coordinates\n",
    "\n",
    "#parse JSON to list of coordinates (dictionaries). See function definition for long_json_to_list()\n",
    "#extract one dict form the list at id: location_id\n",
    "#divide the location into a grid of num_splits_for_location x num_splits_for_location. done by corners_to_grid_by_num_splits()\n",
    "#location_grid_by_num_splits: 2 locumns - latitude and longitude, num_splits_for_location^2 rows - coordinates of the grid\n",
    "location_grid_by_num_splits = corners_to_grid_by_num_splits(long_json_to_list(json_path)[location_id], num_splits_for_location)\n",
    "\n",
    "\n",
    "pivoted_elevation_grid_by_num_splits = parse_api_resonse_to_dataframe(elevation_api_caller(location_grid_by_num_splits)).pivot(index='latitude', columns='longitude', values='elevation')"
   ]
  },
  {
   "cell_type": "code",
   "execution_count": null,
   "metadata": {},
   "outputs": [],
   "source": []
  }
 ],
 "metadata": {
  "kernelspec": {
   "display_name": "Python 3",
   "language": "python",
   "name": "python3"
  },
  "language_info": {
   "codemirror_mode": {
    "name": "ipython",
    "version": 3
   },
   "file_extension": ".py",
   "mimetype": "text/x-python",
   "name": "python",
   "nbconvert_exporter": "python",
   "pygments_lexer": "ipython3",
   "version": "3.10.11"
  }
 },
 "nbformat": 4,
 "nbformat_minor": 2
}
